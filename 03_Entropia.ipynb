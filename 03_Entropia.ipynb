{
 "cells": [
  {
   "cell_type": "code",
   "execution_count": 302,
   "metadata": {
    "scrolled": true
   },
   "outputs": [
    {
     "name": "stdout",
     "output_type": "stream",
     "text": [
      "Requirement already satisfied: dahuffman in ./venv/lib/python3.8/site-packages (0.4.1)\n"
     ]
    }
   ],
   "source": [
    "!pip install dahuffman"
   ]
  },
  {
   "cell_type": "code",
   "execution_count": 303,
   "metadata": {},
   "outputs": [],
   "source": [
    "import random\n",
    "from collections import Counter\n",
    "from dahuffman import HuffmanCodec"
   ]
  },
  {
   "cell_type": "code",
   "execution_count": 304,
   "metadata": {},
   "outputs": [],
   "source": [
    "NR_INDEKSU = 434784"
   ]
  },
  {
   "cell_type": "markdown",
   "metadata": {},
   "source": [
    "## Wprowadzenie"
   ]
  },
  {
   "cell_type": "code",
   "execution_count": 305,
   "metadata": {},
   "outputs": [],
   "source": [
    "tekst = 'Ala ma kota. Jarek ma psa'"
   ]
  },
  {
   "cell_type": "code",
   "execution_count": 306,
   "metadata": {},
   "outputs": [],
   "source": [
    "codec = HuffmanCodec.from_data(tekst)"
   ]
  },
  {
   "cell_type": "code",
   "execution_count": 307,
   "metadata": {},
   "outputs": [
    {
     "data": {
      "text/plain": [
       "Counter({'A': 1,\n",
       "         'l': 1,\n",
       "         'a': 6,\n",
       "         ' ': 5,\n",
       "         'm': 2,\n",
       "         'k': 2,\n",
       "         'o': 1,\n",
       "         't': 1,\n",
       "         '.': 1,\n",
       "         'J': 1,\n",
       "         'r': 1,\n",
       "         'e': 1,\n",
       "         'p': 1,\n",
       "         's': 1})"
      ]
     },
     "execution_count": 307,
     "metadata": {},
     "output_type": "execute_result"
    }
   ],
   "source": [
    "Counter(tekst)"
   ]
  },
  {
   "cell_type": "code",
   "execution_count": 308,
   "metadata": {
    "scrolled": true
   },
   "outputs": [
    {
     "name": "stdout",
     "output_type": "stream",
     "text": [
      "Bits Code  Value Symbol\n",
      "   2 00        0 ' '\n",
      "   2 01        1 'a'\n",
      "   4 1000      8 't'\n",
      "   5 10010    18 _EOF\n",
      "   5 10011    19 '.'\n",
      "   5 10100    20 'A'\n",
      "   5 10101    21 'J'\n",
      "   5 10110    22 'e'\n",
      "   5 10111    23 'l'\n",
      "   4 1100     12 'k'\n",
      "   4 1101     13 'm'\n",
      "   5 11100    28 'o'\n",
      "   5 11101    29 'p'\n",
      "   5 11110    30 'r'\n",
      "   5 11111    31 's'\n"
     ]
    }
   ],
   "source": [
    "codec.print_code_table()"
   ]
  },
  {
   "cell_type": "code",
   "execution_count": 309,
   "metadata": {},
   "outputs": [
    {
     "data": {
      "text/plain": [
       "{' ': (2, 0),\n",
       " 'a': (2, 1),\n",
       " 't': (4, 8),\n",
       " _EOF: (5, 18),\n",
       " '.': (5, 19),\n",
       " 'A': (5, 20),\n",
       " 'J': (5, 21),\n",
       " 'e': (5, 22),\n",
       " 'l': (5, 23),\n",
       " 'k': (4, 12),\n",
       " 'm': (4, 13),\n",
       " 'o': (5, 28),\n",
       " 'p': (5, 29),\n",
       " 'r': (5, 30),\n",
       " 's': (5, 31)}"
      ]
     },
     "execution_count": 309,
     "metadata": {},
     "output_type": "execute_result"
    }
   ],
   "source": [
    "codec.get_code_table()"
   ]
  },
  {
   "cell_type": "code",
   "execution_count": 310,
   "metadata": {},
   "outputs": [],
   "source": [
    "encoded = codec.encode(tekst)"
   ]
  },
  {
   "cell_type": "code",
   "execution_count": 311,
   "metadata": {},
   "outputs": [
    {
     "data": {
      "text/plain": [
       "'1010010111010011010100110011100100001100110010101011111010110110000110101001110111111011'"
      ]
     },
     "execution_count": 311,
     "metadata": {},
     "output_type": "execute_result"
    }
   ],
   "source": [
    "\"{:08b}\".format(int(encoded.hex(),16))"
   ]
  },
  {
   "cell_type": "markdown",
   "metadata": {},
   "source": [
    "A l a"
   ]
  },
  {
   "cell_type": "markdown",
   "metadata": {},
   "source": [
    "101001 10111 01"
   ]
  },
  {
   "cell_type": "code",
   "execution_count": 312,
   "metadata": {},
   "outputs": [
    {
     "data": {
      "text/plain": [
       "'Ala ma kota. Jarek ma psa'"
      ]
     },
     "execution_count": 312,
     "metadata": {},
     "output_type": "execute_result"
    }
   ],
   "source": [
    "codec.decode(encoded)"
   ]
  },
  {
   "cell_type": "code",
   "execution_count": 313,
   "metadata": {},
   "outputs": [
    {
     "data": {
      "text/plain": [
       "25"
      ]
     },
     "execution_count": 313,
     "metadata": {},
     "output_type": "execute_result"
    }
   ],
   "source": [
    "len(tekst)"
   ]
  },
  {
   "cell_type": "code",
   "execution_count": 314,
   "metadata": {},
   "outputs": [
    {
     "data": {
      "text/plain": [
       "11"
      ]
     },
     "execution_count": 314,
     "metadata": {},
     "output_type": "execute_result"
    }
   ],
   "source": [
    "len(encoded)"
   ]
  },
  {
   "cell_type": "markdown",
   "metadata": {},
   "source": [
    "## Zadanie 1 ( 15 punktów)\n",
    "\n",
    "Weź teksty:\n",
    "- z poprzednich zajęć (lub dowolny inny) w języku naturalnym i obetnij do długości 100_000 znaków\n",
    "- wygenerowany losowo zgodnie z rozkładem jednostajnym dyskretnym z klasy [a-zA-Z0-9 ] o długości 100_000 znaków\n",
    "- wygenerowany losowo zgodnie z rozkładem  geometrycznym (wybierz p między 0.2 a 0.8) z klasy [a-zA-Z0-9 ] o długości 100_000 znaków\n",
    "- wygenerowany losowo zgodnie z rozkładem jednostajnym dwupunktowym p=0.5 z klasy [01] o długości 100_000 znaków\n",
    "- wygenerowany losowo zgodnie z rozkładem jednostajnym dwupunktowym p=0.9 z klasy [01] o długości 100_000 znaków\n",
    "\n",
    "Następnie dla każdego z tekstów trakując je po znakach:\n",
    "- skompresuj plik za pomocą dowolnego progrmu (zip, tar lub inny)\n",
    "- policz entropię\n",
    "- wytrenuj kodek huffmana i zakoduj cały tekst\n",
    "- zdekoduj pierwsze 3 znaki (jako zera i jedynki) wypisz je (z oddzieleniem na znaki)\n",
    "- zakodowany tekst zapisz do pliku binarnego, zapisz również tablicę kodową\n",
    "- porównaj wielkość pliku tekstowego, skompresowanego pliku tekstowego (zip, ...) oraz pliku skompresowanego hofmmanem (wraz z kodekiem)\n",
    "\n",
    "Uzupełnij poniższe tabelki oraz wnioski (conajmniej 5 zdań).\n",
    "\n"
   ]
  },
  {
   "cell_type": "markdown",
   "metadata": {},
   "source": [
    "### START ZADANIA"
   ]
  },
  {
   "cell_type": "markdown",
   "metadata": {},
   "source": [
    "## Moj tekst mial 90 000 znaków więc obciąłem do tylu wszystkie, szukanie kolejnego + wykonywanie tych wszystkich zadaniań dla 15 punktów nie kalkuluje się względem tego ile czasu trzeba na to wszystko poświęcić."
   ]
  },
  {
   "cell_type": "code",
   "execution_count": 315,
   "metadata": {},
   "outputs": [
    {
     "name": "stdout",
     "output_type": "stream",
     "text": [
      "Fragment: re, about the primeval forest. It was a picture of a boa constrictor in the act of swallowing an animal. Here is a copy of the drawing.  In the book it said: \"Boa constrictors swallow their prey whole, without chewing it. After that they are not able to move, and they sleep through the six months that they need for digestion.\" I pondered deeply, then, over the adventures of the jungle. And after some work with a colored pencil I succeeded in making my first drawing. My Drawing Number One. It looked something like this:  I showed my masterpiece to the grown-ups, and asked them whether the drawing frightened them. But they answered: \"Frighten? Why should any one be frightened by a hat?\" My drawing was not a picture of a hat. It was a picture of a boa constrictor digesting an elephant. But since the grown-ups were not able to understand it, I made another drawing: I drew the inside of a boa\n",
      "Długość: 90000\n"
     ]
    }
   ],
   "source": [
    "!mkdir -p outputs\n",
    "\n",
    "import requests\n",
    "from bs4 import BeautifulSoup\n",
    "txts = [\n",
    "    ['en', 'https://www.odaha.com/antoine-de-saint-exupery/maly-princ/the-little-prince']\n",
    "]\n",
    "\n",
    "for k, v in txts:\n",
    "    soup = BeautifulSoup(requests.get(v).content, \"html.parser\")\n",
    "    t = soup.find_all(\"div\", {\"class\": \"entrytext\"})\n",
    "    txt = t[0].get_text()\n",
    "    text = txt[:90000]\n",
    "    text = text.replace('\\n', ' ' )\n",
    "\n",
    "print(f'Fragment: {text[100:1000]}')\n",
    "print(f'Długość: {len(text)}')\n"
   ]
  },
  {
   "cell_type": "code",
   "execution_count": 316,
   "metadata": {},
   "outputs": [
    {
     "name": "stdout",
     "output_type": "stream",
     "text": [
      "abcdefghijklmnopqrstuvwxyzABCDEFGHIJKLMNOPQRSTUVWXYZ0123456789\n"
     ]
    }
   ],
   "source": [
    "import string\n",
    "import numpy as np\n",
    "size = 90000\n",
    "alphabet = string.ascii_lowercase + string.ascii_uppercase + string.digits\n",
    "print(alphabet)\n",
    "generated = {}\n",
    "generated['ksiazka'] = text"
   ]
  },
  {
   "cell_type": "markdown",
   "metadata": {},
   "source": [
    "- wygenerowany losowo zgodnie z rozkładem jednostajnym dyskretnym z klasy [a-zA-Z0-9 ] o długości 90_000 znaków"
   ]
  },
  {
   "cell_type": "code",
   "execution_count": 317,
   "metadata": {},
   "outputs": [],
   "source": [
    "uniform = ''.join(np.random.choice(list(alphabet), size))\n",
    "uniform[100:200]\n",
    "generated['jednostajny'] = uniform"
   ]
  },
  {
   "cell_type": "markdown",
   "metadata": {},
   "source": [
    "- wygenerowany losowo zgodnie z rozkładem  geometrycznym (wybierz p między 0.2 a 0.8) z klasy [a-zA-Z0-9 ] o długości 90_000 znaków"
   ]
  },
  {
   "cell_type": "code",
   "execution_count": 318,
   "metadata": {},
   "outputs": [],
   "source": [
    "g = np.random.geometric(p=0.6, size=size) - 1\n",
    "geometric = ''.join([(alphabet)[g[i]] for i in range(size)])\n",
    "geometric[100:200]\n",
    "generated['geometryczny'] = geometric"
   ]
  },
  {
   "cell_type": "markdown",
   "metadata": {},
   "source": [
    "- wygenerowany losowo zgodnie z rozkładem jednostajnym dwupunktowym p=0.5 z klasy [01] o długości 90_000 znaków"
   ]
  },
  {
   "cell_type": "code",
   "execution_count": 319,
   "metadata": {},
   "outputs": [],
   "source": [
    "c = [0, 1]\n",
    "uniform_5 = ''.join(map(str, np.random.choice(c, size, 0.5)))\n",
    "uniform_5[100:200]\n",
    "generated['jednostajny_5'] = uniform_5"
   ]
  },
  {
   "cell_type": "markdown",
   "metadata": {},
   "source": [
    "- wygenerowany losowo zgodnie z rozkładem jednostajnym dwupunktowym p=0.9 z klasy [01] o długości 90_000 znaków"
   ]
  },
  {
   "cell_type": "code",
   "execution_count": 320,
   "metadata": {},
   "outputs": [],
   "source": [
    "uniform_9 =  ''.join(map(str, np.random.binomial(1, 0.9, size)))\n",
    "uniform_9[100:200]\n",
    "generated['jednostajny_9'] = uniform_9"
   ]
  },
  {
   "cell_type": "markdown",
   "metadata": {},
   "source": [
    "## Kompresja"
   ]
  },
  {
   "cell_type": "code",
   "execution_count": 321,
   "metadata": {},
   "outputs": [],
   "source": [
    "!mkdir -p outputs"
   ]
  },
  {
   "cell_type": "code",
   "execution_count": 322,
   "metadata": {},
   "outputs": [],
   "source": [
    "from zipfile import ZipFile\n",
    "import zlib\n",
    "from collections import Counter\n",
    "import math\n",
    "\n",
    "def uncompress(name, text):\n",
    "    print(f'{name} wielkość {len(text)}')\n",
    "    ent = entropy(text)\n",
    "    print(f'{name} entropia {ent}')\n",
    "\n",
    "def save_text(name, content):\n",
    "    with open(f\"outputs//{name}.txt\", \"w\",  encoding=\"utf-8\") as f:\n",
    "        f.write(content)\n",
    "\n",
    "def compress(name, text):\n",
    "    # zipObj = ZipFile(f'outputs//{name}.zip', 'w')\n",
    "    # zipObj.write(f'outputs//{name}.txt')\n",
    "    # print(sum([zinfo.file_size for zinfo in zipObj.filelist]))\n",
    "    compressed = zlib.compress(text)\n",
    "    print(f'{name} wielkość po skompresowaniu {len(compressed)}')\n",
    "    ent = 8 * len(compressed) / len(text)\n",
    "    print(f'{name} entropia po skompresowaniu {ent}')\n",
    "    with open(f'outputs//{name}.zip', \"wb\") as f:\n",
    "        f.write(compressed)\n",
    "\n",
    "def get_characters(t):\n",
    "    yield from t\n",
    "    \n",
    "def entropy(text):\n",
    "    result=0\n",
    "    x=Counter(get_characters(text))\n",
    "    for i in x:\n",
    "        x[i]=x[i]/len(text)\n",
    "        y=x[i]*math.log2(x[i])\n",
    "        result+=y\n",
    "    result=result*(-1)\n",
    "    return result"
   ]
  },
  {
   "cell_type": "code",
   "execution_count": 323,
   "metadata": {},
   "outputs": [
    {
     "name": "stdout",
     "output_type": "stream",
     "text": [
      "ksiazka wielkość 90000\n",
      "ksiazka entropia 4.387839789390687\n",
      "ksiazka wielkość po skompresowaniu 31504\n",
      "ksiazka entropia po skompresowaniu 2.8000755480007555\n",
      "\n",
      "jednostajny wielkość 90000\n",
      "jednostajny entropia 5.953598358092162\n",
      "jednostajny wielkość po skompresowaniu 67703\n",
      "jednostajny entropia po skompresowaniu 6.0180444444444445\n",
      "\n",
      "geometryczny wielkość 90000\n",
      "geometryczny entropia 1.6198960394407873\n",
      "geometryczny wielkość po skompresowaniu 24404\n",
      "geometryczny entropia po skompresowaniu 2.1692444444444443\n",
      "\n",
      "jednostajny_5 wielkość 90000\n",
      "jednostajny_5 entropia 0.9999998845843936\n",
      "jednostajny_5 wielkość po skompresowaniu 14383\n",
      "jednostajny_5 entropia po skompresowaniu 1.2784888888888888\n",
      "\n",
      "jednostajny_9 wielkość 90000\n",
      "jednostajny_9 entropia 0.4714913357310381\n",
      "jednostajny_9 wielkość po skompresowaniu 8603\n",
      "jednostajny_9 entropia po skompresowaniu 0.7647111111111111\n",
      "\n"
     ]
    }
   ],
   "source": [
    "for key in generated:\n",
    "    save_text(key, generated[key])\n",
    "    uncompress(key, generated[key])\n",
    "    compress(key, bytes(generated[key], 'utf-8'))\n",
    "    print(\"\")\n",
    "    "
   ]
  },
  {
   "cell_type": "markdown",
   "metadata": {},
   "source": [
    "- wytrenuj kodek huffmana i zakoduj cały tekst\n",
    "- zdekoduj pierwsze 3 znaki (jako zera i jedynki) wypisz je (z oddzieleniem na znaki)\n",
    "- zakodowany tekst zapisz do pliku binarnego, zapisz również tablicę kodową"
   ]
  },
  {
   "cell_type": "code",
   "execution_count": 324,
   "metadata": {},
   "outputs": [],
   "source": [
    "from dahuffman import HuffmanCodec\n",
    "from collections import Counter\n",
    "\n",
    "\n",
    "def huffman(text, name):\n",
    "    c = HuffmanCodec.from_data(text)\n",
    "    c.save(f'outputs//{name}-codec.bin')\n",
    "    c.print_code_table()\n",
    "    c.get_code_table()\n",
    "    encoded = c.encode(text)\n",
    "    huff_code = \"{:08b}\".format(int(encoded.hex(), 16))\n",
    "\n",
    "    print(huff_code[:10])\n",
    "    decoded = codec.decode(encoded)\n",
    "    print(f'{decoded[0]} {decoded[1]} {decoded[2]}')\n",
    "\n",
    "    f = open(f'outputs//{name}.bin', \"wb\")\n",
    "    f.write(bytes(encoded))\n",
    "    f.close()"
   ]
  },
  {
   "cell_type": "code",
   "execution_count": 325,
   "metadata": {},
   "outputs": [
    {
     "name": "stdout",
     "output_type": "stream",
     "text": [
      "ksiazka\n",
      "Bits Code               Value Symbol\n",
      "   2 00                     0 ' '\n",
      "   3 010                    2 'e'\n",
      "   6 011000                24 'p'\n",
      "   7 0110010               50 'k'\n",
      "   8 01100110             102 '-'\n",
      "   9 011001110            206 '?'\n",
      "  10 0110011110           414 \"'\"\n",
      "  11 01100111110          830 ';'\n",
      "  11 01100111111          831 'F'\n",
      "   6 011010                26 'g'\n",
      "   6 011011                27 '\"'\n",
      "   4 0111                   7 'o'\n",
      "   4 1000                   8 'a'\n",
      "   6 100100                36 'f'\n",
      "   6 100101                37 'c'\n",
      "   5 10011                 19 'd'\n",
      "   7 1010000               80 'v'\n",
      "   7 1010001               81 'I'\n",
      "   6 101001                41 'y'\n",
      "   6 101010                42 'w'\n",
      "   6 101011                43 '.'\n",
      "   4 1011                  11 't'\n",
      "   5 11000                 24 'l'\n",
      "   7 1100100              100 'b'\n",
      "  10 1100101000           808 'Y'\n",
      "  14 11001010010000     12944 '9'\n",
      "  16 1100101001000100   51780 'ě'\n",
      "  16 1100101001000101   51781 'ů'\n",
      "  15 110010100100011    25891 '4'\n",
      "  14 11001010010010     12946 '('\n",
      "  14 11001010010011     12947 ')'\n",
      "  12 110010100101        3237 'D'\n",
      "  15 110010100110000    25904 '7'\n",
      "  15 110010100110001    25905 'U'\n",
      "  14 11001010011001     12953 'J'\n",
      "  13 1100101001101       6477 '1'\n",
      "  13 1100101001110       6478 '2'\n",
      "  13 1100101001111       6479 'L'\n",
      "  10 1100101010           810 ':'\n",
      "  10 1100101011           811 'H'\n",
      "  10 1100101100           812 'W'\n",
      "  13 1100101101000       6504 'P'\n",
      "  16 1100101101001000   52040 '…'\n",
      "  17 11001011010010010 104082 _EOF\n",
      "  17 11001011010010011 104083 '$'\n",
      "  15 110010110100101    26021 '5'\n",
      "  17 11001011010011000 104088 '8'\n",
      "  17 11001011010011001 104089 'K'\n",
      "  16 1100101101001101   52045 'R'\n",
      "  16 1100101101001110   52046 'V'\n",
      "  17 11001011010011110 104094 'Z'\n",
      "  17 11001011010011111 104095 '¨'\n",
      "  12 110010110101        3253 'E'\n",
      "  11 11001011011         1627 'S'\n",
      "   9 110010111            407 'A'\n",
      "   6 110011                51 'm'\n",
      "   5 11010                 26 'r'\n",
      "   6 110110                54 'u'\n",
      "   7 1101110              110 ','\n",
      "  10 1101111000           888 '!'\n",
      "  10 1101111001           889 'B'\n",
      "  12 110111101000        3560 'z'\n",
      "  13 1101111010010       7122 'C'\n",
      "  14 11011110100110     14246 '3'\n",
      "  15 110111101001110    28494 'ď'\n",
      "  15 110111101001111    28495 '6'\n",
      "  11 11011110101         1781 'q'\n",
      "  11 11011110110         1782 'j'\n",
      "  11 11011110111         1783 'O'\n",
      "   9 110111110            446 'T'\n",
      "  12 110111111000        3576 '0'\n",
      "  12 110111111001        3577 'G'\n",
      "  12 110111111010        3578 'M'\n",
      "  12 110111111011        3579 'N'\n",
      "  10 1101111111           895 'x'\n",
      "   5 11100                 28 's'\n",
      "   5 11101                 29 'i'\n",
      "   5 11110                 30 'h'\n",
      "   5 11111                 31 'n'\n",
      "1101111011\n",
      "    m\n",
      "jednostajny\n",
      "Bits Code    Value Symbol\n",
      "   5 00000       0 'Z'\n",
      "   5 00001       1 't'\n",
      "   7 0001000     8 _EOF\n",
      "   7 0001001     9 '1'\n",
      "   6 000101      5 'W'\n",
      "   6 000110      6 'C'\n",
      "   6 000111      7 'r'\n",
      "   6 001000      8 'j'\n",
      "   6 001001      9 'w'\n",
      "   6 001010     10 'M'\n",
      "   6 001011     11 'm'\n",
      "   6 001100     12 'H'\n",
      "   6 001101     13 'R'\n",
      "   6 001110     14 'v'\n",
      "   6 001111     15 'L'\n",
      "   6 010000     16 'P'\n",
      "   6 010001     17 'I'\n",
      "   6 010010     18 'f'\n",
      "   6 010011     19 'B'\n",
      "   6 010100     20 'd'\n",
      "   6 010101     21 'G'\n",
      "   6 010110     22 'e'\n",
      "   6 010111     23 '0'\n",
      "   6 011000     24 'V'\n",
      "   6 011001     25 '8'\n",
      "   6 011010     26 'a'\n",
      "   6 011011     27 'q'\n",
      "   6 011100     28 '6'\n",
      "   6 011101     29 '9'\n",
      "   6 011110     30 'A'\n",
      "   6 011111     31 's'\n",
      "   6 100000     32 '3'\n",
      "   6 100001     33 'i'\n",
      "   6 100010     34 '7'\n",
      "   6 100011     35 'n'\n",
      "   6 100100     36 'E'\n",
      "   6 100101     37 'K'\n",
      "   6 100110     38 'o'\n",
      "   6 100111     39 'X'\n",
      "   6 101000     40 'F'\n",
      "   6 101001     41 'S'\n",
      "   6 101010     42 'k'\n",
      "   6 101011     43 'l'\n",
      "   6 101100     44 'h'\n",
      "   6 101101     45 'Y'\n",
      "   6 101110     46 'z'\n",
      "   6 101111     47 'x'\n",
      "   6 110000     48 'u'\n",
      "   6 110001     49 'g'\n",
      "   6 110010     50 'U'\n",
      "   6 110011     51 'p'\n",
      "   6 110100     52 'J'\n",
      "   6 110101     53 '5'\n",
      "   6 110110     54 'Q'\n",
      "   6 110111     55 '4'\n",
      "   6 111000     56 'c'\n",
      "   6 111001     57 'T'\n",
      "   6 111010     58 'b'\n",
      "   6 111011     59 'D'\n",
      "   6 111100     60 '2'\n",
      "   6 111101     61 'O'\n",
      "   6 111110     62 'y'\n",
      "   6 111111     63 'N'\n",
      "1010110100\n",
      "    J\n",
      "geometryczny\n",
      "Bits Code          Value Symbol\n",
      "  13 0000000000000     0 _EOF\n",
      "  13 0000000000001     1 'p'\n",
      "  12 000000000001      1 'm'\n",
      "  11 00000000001       1 'k'\n",
      "  10 0000000001        1 'j'\n",
      "   9 000000001         1 'i'\n",
      "   8 00000001          1 'h'\n",
      "   7 0000001           1 'g'\n",
      "   6 000001            1 'f'\n",
      "   5 00001             1 'e'\n",
      "   4 0001              1 'd'\n",
      "   3 001               1 'c'\n",
      "   2 01                1 'b'\n",
      "   1 1                 1 'a'\n",
      "1111110011\n",
      "a s  \n",
      "jednostajny_5\n",
      "Bits Code Value Symbol\n",
      "   2 00       0 _EOF\n",
      "   2 01       1 '1'\n",
      "   1 1        1 '0'\n",
      "1110101101\n",
      "p a e\n",
      "jednostajny_9\n",
      "Bits Code Value Symbol\n",
      "   2 00       0 _EOF\n",
      "   2 01       1 '0'\n",
      "   1 1        1 '1'\n",
      "1111111101\n",
      "s p s\n"
     ]
    }
   ],
   "source": [
    "for key in generated:\n",
    "    print(key)\n",
    "    huffman(generated[key], key)"
   ]
  },
  {
   "cell_type": "markdown",
   "metadata": {},
   "source": [
    "- porównaj wielkość pliku tekstowego, skompresowanego pliku tekstowego (zip, ...) oraz pliku skompresowanego hofmmanem (wraz z kodekiem)"
   ]
  },
  {
   "cell_type": "code",
   "execution_count": 326,
   "metadata": {},
   "outputs": [
    {
     "name": "stdout",
     "output_type": "stream",
     "text": [
      "ksiazka\n",
      "PLAIN ksiazka.txt wielkość 90009\n",
      "COMPRESSED ksiazka.zip wielkość 31504\n",
      "HOFFMAN ksiazka.bin + ksiazka.codec wielkość 50884\n",
      "\n",
      "jednostajny\n",
      "PLAIN jednostajny.txt wielkość 90000\n",
      "COMPRESSED jednostajny.zip wielkość 67703\n",
      "HOFFMAN jednostajny.bin + jednostajny.codec wielkość 68067\n",
      "\n",
      "geometryczny\n",
      "PLAIN geometryczny.txt wielkość 90000\n",
      "COMPRESSED geometryczny.zip wielkość 24404\n",
      "HOFFMAN geometryczny.bin + geometryczny.codec wielkość 19056\n",
      "\n",
      "jednostajny_5\n",
      "PLAIN jednostajny_5.txt wielkość 90000\n",
      "COMPRESSED jednostajny_5.zip wielkość 14383\n",
      "HOFFMAN jednostajny_5.bin + jednostajny_5.codec wielkość 17053\n",
      "\n",
      "jednostajny_9\n",
      "PLAIN jednostajny_9.txt wielkość 90000\n",
      "COMPRESSED jednostajny_9.zip wielkość 8603\n",
      "HOFFMAN jednostajny_9.bin + jednostajny_9.codec wielkość 12564\n",
      "\n"
     ]
    }
   ],
   "source": [
    "import os\n",
    "def compare_all(name):\n",
    "    s_txt = os.path.getsize(f'outputs//{name}.txt')\n",
    "    print(f'PLAIN {name}.txt wielkość {s_txt}')\n",
    "    s_zip = os.path.getsize(f'outputs//{name}.zip')\n",
    "    print(f'COMPRESSED {name}.zip wielkość {s_zip}')\n",
    "    s_hof = os.path.getsize(f'outputs//{name}.bin') + os.path.getsize(f'outputs//{name}-codec.bin')\n",
    "    print(f'HOFFMAN {name}.bin + {name}.codec wielkość {s_hof}')\n",
    "    print('')\n",
    "\n",
    "for key in generated:\n",
    "    print(key)\n",
    "    compare_all(key)   "
   ]
  },
  {
   "cell_type": "markdown",
   "metadata": {},
   "source": [
    "Entropia\n",
    "    \n",
    "|                            | Entropia  |\n",
    "| -----------                | ----------- |\n",
    "| tekst  w jęz. naturalnym   |      4.387839789390687       |\n",
    "| losowy tekst (jednostajny)   |       5.953701289211957      |\n",
    "| losowy tekst (geometryczny)|       1.6246104667414993      |\n",
    "| losowy tekst (dwupunktowy 0.5) |    0.9999683659193007         |\n",
    "| losowy tekst (dwupunktowy 0.9) |     0.4714562533788368        |"
   ]
  },
  {
   "cell_type": "markdown",
   "metadata": {},
   "source": [
    "Wielkości w bitach:\n",
    "    \n",
    "|                        | Plik nieskompresowany  | Plik skompresowany (zip, tar,.. ) |  Plik zakodowany + tablica kodowa |\n",
    "| -----------                | ----------- |-----------|----------- |\n",
    "| tekst  w jęz. naturalnym   |      90009       |    31504       |       50884     |\n",
    "| losowy tekst (jednostajny)   |    90009         |    67694       |   68072         |\n",
    "| losowy tekst (geometryczny)|       90009      |      24465     |      19095      |\n",
    "| losowy tekst (dwupunktowy 0.5)|    90009         |     14386      |     17018       |\n",
    "| losowy tekst (dwupunktowy 0.9)|    90009         |      8584     |    12564        |"
   ]
  },
  {
   "cell_type": "markdown",
   "metadata": {},
   "source": [
    "#### Wnioski:\n",
    "Moim głównym wnioskiem jest to, że nie rozumiem po co mamy tutaj się rozpisywać, skoro uzupełnialiśmy tabelki idealnie ukazujące wyniki zadań. Myśle że dla przyszłych roczników dużo ciekawszym by było omówienie albo napisanie np dlaczego (na windowsie) jak wejdziemy sobie w właściwości pliku txt, dostajemy dwie informacje \"Size\" i \"Size on disk\". Ale skoro trzeba tutaj coś napisać i polać troche wody to:\n",
    "- Wszystkie teksty nieskopresowane zapisane do pliku txt posiadają taką samą wielkość.\n",
    "- Tekst naturalny po skompresowaniu zajął 1/3 miejsca\n",
    "- Tekst wygenerowany jednostajnie po skompresowaniu zajął około 2/3 miejsca\n",
    "- Tekst wygenerowany geometrycznie po skompresowaniu zajął około 1/4 miejsca\n",
    "- Tekst wygenerowany dwupunktowy 0.5 po skompresowaniu zajął około 2/6 miejsca\n",
    "- Tekst wygenerowany dwupunktowy 0.9 po skompresowaniu zajął około 1/10 miejsca\n",
    "- Tekst naturalny po zakodowaniu hoffmanem zajął wiecej miejsca niz po skompresowaniu\n",
    "- Tekst wygenerowany jednostajnie po zakodowaniu hoffmanem zajął mniej wiecej tyle samo miejsca co po skompresowaniu \n",
    "- Tekst wygenerowany geometrycznie po zakodowaniu hoffmanem zajął mniej miejsca niz po skompresowaniu\n",
    "- Tekst wygenerowany dwupunktowy 0.5 po zakodowaniu hoffmanem zajął wiecej miejsca niz po skompresowaniu\n",
    "- Tekst wygenerowany dwupunktowy 0.9 po zakodowaniu hoffmanem zajął wiecej miejsca niz po skompresowaniu\n",
    "\n",
    "Dla moich wyników cała zabawa z Hoffmanem była w większości przypadków mało efektowna, ponieważ plik bin z kodekiem zajął w 4/5 przypadków więcej miejsca niż pierwsza funkcja pythonowa która wyskoczyła mi w googlu służąca do kompresji."
   ]
  },
  {
   "cell_type": "markdown",
   "metadata": {},
   "source": [
    "### KONIEC ZADANIA"
   ]
  },
  {
   "cell_type": "markdown",
   "metadata": {},
   "source": [
    "## Zadanie 2 (10 punktów)\n",
    "\n",
    "Powtórz kroki z zadania 1, tylko potraktuje wiadomości jako słowa (oddzielone spacją). Jeżeli występują więcej niż jedna spacja równocześnie- usuń je.\n",
    " \n",
    "Do wniosków dopisz koniecznie porównanie między kodowaniem hoffmana znaków i słów.\n",
    "\n",
    "\n",
    "\n"
   ]
  },
  {
   "cell_type": "markdown",
   "metadata": {},
   "source": [
    "### START ZADANIA"
   ]
  },
  {
   "cell_type": "code",
   "execution_count": 327,
   "metadata": {},
   "outputs": [
    {
     "data": {
      "text/plain": [
       "[' ',\n",
       " 'a',\n",
       " 'b',\n",
       " 'c',\n",
       " 'd',\n",
       " 'e',\n",
       " 'f',\n",
       " 'g',\n",
       " 'h',\n",
       " 'i',\n",
       " 'j',\n",
       " 'k',\n",
       " 'l',\n",
       " 'm',\n",
       " 'n',\n",
       " 'o',\n",
       " 'p',\n",
       " 'q',\n",
       " 'r',\n",
       " 's',\n",
       " 't',\n",
       " 'u',\n",
       " 'v',\n",
       " 'w',\n",
       " 'x',\n",
       " 'y',\n",
       " 'z',\n",
       " 'A',\n",
       " 'B',\n",
       " 'C',\n",
       " 'D',\n",
       " 'E',\n",
       " 'F',\n",
       " 'G',\n",
       " 'H',\n",
       " 'I',\n",
       " 'J',\n",
       " 'K',\n",
       " 'L',\n",
       " 'M',\n",
       " 'N',\n",
       " 'O',\n",
       " 'P',\n",
       " 'Q',\n",
       " 'R',\n",
       " 'S',\n",
       " 'T',\n",
       " 'U',\n",
       " 'V',\n",
       " 'W',\n",
       " 'X',\n",
       " 'Y',\n",
       " 'Z',\n",
       " '0',\n",
       " '1',\n",
       " '2',\n",
       " '3',\n",
       " '4',\n",
       " '5',\n",
       " '6',\n",
       " '7',\n",
       " '8',\n",
       " '9']"
      ]
     },
     "execution_count": 327,
     "metadata": {},
     "output_type": "execute_result"
    }
   ],
   "source": [
    "a = list(\" \" + string.ascii_lowercase + string.ascii_uppercase + string.digits)\n",
    "a"
   ]
  },
  {
   "cell_type": "code",
   "execution_count": 328,
   "metadata": {},
   "outputs": [
    {
     "name": "stdout",
     "output_type": "stream",
     "text": [
      "31Swf12sLNxttpTMTsNOiClvfv1cWI3mykXEQv7XDtmpeZbE8Lqs gRZU5VaLnYixPZTn4gTsZxV08xjH8BQCx1kA2m6AveQHonr\n",
      "baeesh  acyjb cb  a bbak a b  xjfhcqw b af aib kbh ec abb afedehfedheafia aabd aacedcefbb    e  b d \n"
     ]
    }
   ],
   "source": [
    "discret = ''.join(np.random.choice(list(a), 90000))\n",
    "print(discret[100:200])\n",
    "\n",
    "g = np.random.geometric(p=0.2, size=90000)-1\n",
    "geometric = ''.join([(a)[g[i]] for i in range(90000)])\n",
    "print(geometric[100:200])"
   ]
  },
  {
   "cell_type": "code",
   "execution_count": 329,
   "metadata": {},
   "outputs": [],
   "source": [
    "def remove_extra_space(text):\n",
    "    return \" \".join(text.split())\n",
    "\n",
    "def entropy(text):\n",
    "    result=0\n",
    "    x=Counter(nltk.tokenize.word_tokenize(text))\n",
    "    for i in x:\n",
    "        x[i]=x[i]/len(text)\n",
    "        y=x[i]*math.log2(x[i])\n",
    "        result+=y\n",
    "    result=result*(-1)\n",
    "    return result\n",
    "\n",
    "generated2 = {}\n",
    "generated2['ksiazka2'] = remove_extra_space(text)\n",
    "generated2['dyskretny2'] = remove_extra_space(discret)\n",
    "generated2['geometryczny2'] = remove_extra_space(geometric)"
   ]
  },
  {
   "cell_type": "code",
   "execution_count": 330,
   "metadata": {},
   "outputs": [
    {
     "name": "stdout",
     "output_type": "stream",
     "text": [
      "ksiazka2 wielkość 89883\n",
      "ksiazka2 entropia 2.421775520775303\n",
      "ksiazka2 wielkość po skompresowaniu 31391\n",
      "ksiazka2 entropia po skompresowaniu 2.793663507319895\n",
      "dyskretny2 wielkość 89974\n",
      "dyskretny2 entropia 0.2614291392553716\n",
      "dyskretny2 wielkość po skompresowaniu 67867\n",
      "dyskretny2 entropia po skompresowaniu 6.03436548336186\n",
      "geometryczny2 wielkość 86421\n",
      "geometryczny2 entropia 2.325385770070672\n",
      "geometryczny2 wielkość po skompresowaniu 45978\n",
      "geometryczny2 entropia po skompresowaniu 4.256187732148436\n"
     ]
    }
   ],
   "source": [
    "for key in generated2:\n",
    "    save_text(key, generated2[key])\n",
    "    uncompress(key, generated2[key])\n",
    "    compress(key, bytes(generated2[key], 'utf-8'))"
   ]
  },
  {
   "cell_type": "code",
   "execution_count": 331,
   "metadata": {},
   "outputs": [],
   "source": [
    "import nltk\n",
    "def huffman(tekst, name):\n",
    "    codec = HuffmanCodec.from_data(nltk.tokenize.word_tokenize(tekst))\n",
    "    codec.save(f'outputs//{name}-codec.bin')\n",
    "    encoded = codec.encode(nltk.tokenize.word_tokenize(tekst))\n",
    "    with open(f'outputs//{name}.bin',\"wb\") as f:\n",
    "        f.write(bytes(encoded))\n",
    "\n",
    "def first3(text):\n",
    "    codec = HuffmanCodec.from_data(nltk.tokenize.word_tokenize(text))\n",
    "    print(f' {nltk.tokenize.word_tokenize(text)[0]} -> {int(codec.encode([nltk.tokenize.word_tokenize(text)[0]]).hex(), 16)}')\n",
    "    print(f' {nltk.tokenize.word_tokenize(text)[1]} -> {int(codec.encode([nltk.tokenize.word_tokenize(text)[1]]).hex(), 16)}')\n",
    "    print(f' {nltk.tokenize.word_tokenize(text)[2]} -> {int(codec.encode([nltk.tokenize.word_tokenize(text)[2]]).hex(), 16)}')"
   ]
  },
  {
   "cell_type": "code",
   "execution_count": 332,
   "metadata": {},
   "outputs": [
    {
     "name": "stdout",
     "output_type": "stream",
     "text": [
      "ksiazka2\n",
      " Once -> 1023\n",
      " when -> 21372\n",
      " I -> 71\n",
      "dyskretny2\n",
      " mE1Tpr9lDdbYO8yNSy23S6J28mMGGuzcPQoWzpey4PS -> 18982\n",
      " goDkf -> 10406\n",
      " q1vjStFXVKCIkTjs3ymejZAyNSMxBNvZunh -> 25254\n",
      "geometryczny2\n",
      " ghbai -> 54485\n",
      " mgejai -> 60633\n",
      " ifa -> 17478\n"
     ]
    }
   ],
   "source": [
    "for key in generated2:\n",
    "    print(key)\n",
    "    huffman(generated2[key], key)\n",
    "    first3(generated2[key])"
   ]
  },
  {
   "cell_type": "code",
   "execution_count": 333,
   "metadata": {},
   "outputs": [
    {
     "name": "stdout",
     "output_type": "stream",
     "text": [
      "ksiazka2\n",
      "PLAIN ksiazka2.txt wielkość 89892\n",
      "COMPRESSED ksiazka2.zip wielkość 31391\n",
      "HOFFMAN ksiazka2.bin + ksiazka2.codec wielkość 59032\n",
      "\n",
      "dyskretny2\n",
      "PLAIN dyskretny2.txt wielkość 89974\n",
      "COMPRESSED dyskretny2.zip wielkość 67867\n",
      "HOFFMAN dyskretny2.bin + dyskretny2.codec wielkość 104634\n",
      "\n",
      "geometryczny2\n",
      "PLAIN geometryczny2.txt wielkość 86421\n",
      "COMPRESSED geometryczny2.zip wielkość 45978\n",
      "HOFFMAN geometryczny2.bin + geometryczny2.codec wielkość 167430\n",
      "\n"
     ]
    }
   ],
   "source": [
    "for key in generated2:\n",
    "    print(key)\n",
    "    compare_all(key)   "
   ]
  },
  {
   "cell_type": "markdown",
   "metadata": {},
   "source": [
    "Entropia\n",
    "    \n",
    "|                            | Entropia    |\n",
    "| -----------                | ----------- |\n",
    "| tekst  w jęz. naturalnym   |       2.421775520775303    |\n",
    "| losowy tekst (dyskretny)   |     0.25185877675081064      |\n",
    "| losowy tekst (geometryczny)|        2.3333186184230708     |"
   ]
  },
  {
   "cell_type": "markdown",
   "metadata": {},
   "source": [
    "Wielkości w bitach:\n",
    "    \n",
    "|                        | Plik nieskompresowany  | Plik skompresowany (zip, tar,.. ) |  Plik zakodowany + tablica kodowa |\n",
    "| -----------                | ----------- |-----------|----------- |\n",
    "| tekst  w jęz. naturalnym   |      89892       |    31391       |      59032      |\n",
    "| losowy tekst (jednostajny)   |    89974         |    67867       |   104634         |\n",
    "| losowy tekst (geometryczny)|        86421     |     45978      |        167430    |"
   ]
  },
  {
   "cell_type": "markdown",
   "metadata": {},
   "source": [
    "#### Wnioski:\n",
    "\n",
    "- Pliki teskstowe różnią się wielkością bo usuwaliśmy powielone spacje.\n",
    "- Tekst naturalny po skompresowaniu zajął 1/3 miejsca\n",
    "- Tekst wygenerowany jednostajnie po skompresowaniu zajął około 2/3 miejsca\n",
    "- Tekst wygenerowany geometrycznie po skompresowaniu zajął około 1/2 miejsca\n",
    "- Tekst naturalny po zakodowaniu hoffmanem zajął wiecej miejsca niz po skompresowaniu\n",
    "- Tekst wygenerowany jednostajnie po zakodowaniu hoffmanem zajął mniej wiecej tyle samo miejsca co po skompresowaniu \n",
    "- Tekst wygenerowany geometrycznie po zakodowaniu hoffmanem zajął mniej miejsca niz po skompresowaniu\n",
    "- Zakodowany tekst hoffmanem jednostajny zajął więcej miejsca niż zwykły plik tekstowy (!)\n",
    "\n",
    "- Zakodowany ekst hoffmanem geometryczny zajął DWUKROTNIE więcej miejsca niż zwykły plik tekstowy (!)"
   ]
  },
  {
   "cell_type": "markdown",
   "metadata": {},
   "source": [
    "### KONIEC ZADANIA"
   ]
  },
  {
   "cell_type": "markdown",
   "metadata": {},
   "source": [
    "## Zadanie 3 (20 punktów)\n",
    "\n",
    "stwórz ręcznie drzewo Huffmana (zrób rysunki na kartce i załącz je jako obrazek) oraz zakoduj poniższy tekst "
   ]
  },
  {
   "cell_type": "code",
   "execution_count": 334,
   "metadata": {},
   "outputs": [],
   "source": [
    "random.seed(123)\n",
    "\n",
    "tekst = list('abcdefghijklmnoprst')\n",
    "\n",
    "random.shuffle(tekst)\n",
    "\n",
    "tekst = tekst[: 5 + random.randint(1,5)]\n",
    "\n",
    "tekst = [a*random.randint(1,4) for a in tekst]\n",
    "\n",
    "tekst = [item for sublist in tekst for item in sublist]\n",
    "\n",
    "''.join(tekst)\n",
    "\n",
    "random.shuffle(tekst)\n",
    "\n",
    "tekst = ''.join(tekst)"
   ]
  },
  {
   "cell_type": "code",
   "execution_count": 335,
   "metadata": {},
   "outputs": [
    {
     "data": {
      "text/plain": [
       "'ldddmpprphhopd'"
      ]
     },
     "execution_count": 335,
     "metadata": {},
     "output_type": "execute_result"
    }
   ],
   "source": [
    "tekst"
   ]
  },
  {
   "cell_type": "markdown",
   "metadata": {},
   "source": [
    "### Start zadania"
   ]
  },
  {
   "cell_type": "markdown",
   "metadata": {},
   "source": [
    "![title](img/tree.jpg)"
   ]
  },
  {
   "cell_type": "markdown",
   "metadata": {},
   "source": [
    "### Koniec zadania"
   ]
  },
  {
   "cell_type": "markdown",
   "metadata": {},
   "source": [
    "## WYKONANIE ZADAŃ\n",
    "Zgodnie z instrukcją 01_Kodowanie_tekstu.ipynb"
   ]
  },
  {
   "cell_type": "code",
   "execution_count": null,
   "metadata": {},
   "outputs": [],
   "source": []
  }
 ],
 "metadata": {
  "author": "Jakub Pokrywka",
  "email": "kubapok@wmi.amu.edu.pl",
  "kernelspec": {
   "display_name": "Python 3",
   "language": "python",
   "name": "python3"
  },
  "lang": "pl",
  "language_info": {
   "codemirror_mode": {
    "name": "ipython",
    "version": 3
   },
   "file_extension": ".py",
   "mimetype": "text/x-python",
   "name": "python",
   "nbconvert_exporter": "python",
   "pygments_lexer": "ipython3",
   "version": "3.8.10"
  },
  "subtitle": "0.Informacje na temat przedmiotu[ćwiczenia]",
  "title": "Ekstrakcja informacji",
  "year": "2021"
 },
 "nbformat": 4,
 "nbformat_minor": 4
}
